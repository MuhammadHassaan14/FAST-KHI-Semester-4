{
 "cells": [
  {
   "cell_type": "markdown",
   "metadata": {},
   "source": [
    "<h1><b><i>Probability & Statistics</b></i></h1> Assignment 01 <br>\n",
    "<i>k232001</i> Muzammil Siddiqui"
   ]
  },
  {
   "cell_type": "code",
   "execution_count": 3,
   "metadata": {},
   "outputs": [],
   "source": [
    "import pandas as pd\n",
    "import seaborn as sns\n",
    "import matplotlib.pyplot as plt"
   ]
  },
  {
   "cell_type": "markdown",
   "metadata": {},
   "source": [
    "***Question1: (Data Analysis of Employee’s performance\n",
    "dataset)***"
   ]
  },
  {
   "cell_type": "markdown",
   "metadata": {
    "slideshow": {
     "slide_type": "notes"
    }
   },
   "source": [
    "a. Constructing the Dataframe"
   ]
  },
  {
   "cell_type": "code",
   "execution_count": 4,
   "metadata": {},
   "outputs": [
    {
     "data": {
      "text/html": [
       "<div>\n",
       "<style scoped>\n",
       "    .dataframe tbody tr th:only-of-type {\n",
       "        vertical-align: middle;\n",
       "    }\n",
       "\n",
       "    .dataframe tbody tr th {\n",
       "        vertical-align: top;\n",
       "    }\n",
       "\n",
       "    .dataframe thead th {\n",
       "        text-align: right;\n",
       "    }\n",
       "</style>\n",
       "<table border=\"1\" class=\"dataframe\">\n",
       "  <thead>\n",
       "    <tr style=\"text-align: right;\">\n",
       "      <th></th>\n",
       "      <th>ID</th>\n",
       "      <th>Age</th>\n",
       "      <th>Gender</th>\n",
       "      <th>Department</th>\n",
       "      <th>Salary ($)</th>\n",
       "      <th>Experience (Years)</th>\n",
       "      <th>Work Hours/Week</th>\n",
       "      <th>Projects Completed</th>\n",
       "      <th>Job Satisfaction (1-10)</th>\n",
       "      <th>Training Hours</th>\n",
       "      <th>Promotion Status</th>\n",
       "    </tr>\n",
       "  </thead>\n",
       "  <tbody>\n",
       "    <tr>\n",
       "      <th>0</th>\n",
       "      <td>1</td>\n",
       "      <td>28</td>\n",
       "      <td>Male</td>\n",
       "      <td>IT</td>\n",
       "      <td>70000</td>\n",
       "      <td>3</td>\n",
       "      <td>40</td>\n",
       "      <td>5</td>\n",
       "      <td>7</td>\n",
       "      <td>20</td>\n",
       "      <td>No</td>\n",
       "    </tr>\n",
       "    <tr>\n",
       "      <th>1</th>\n",
       "      <td>2</td>\n",
       "      <td>35</td>\n",
       "      <td>Female</td>\n",
       "      <td>HR</td>\n",
       "      <td>60000</td>\n",
       "      <td>7</td>\n",
       "      <td>38</td>\n",
       "      <td>4</td>\n",
       "      <td>8</td>\n",
       "      <td>15</td>\n",
       "      <td>Yes</td>\n",
       "    </tr>\n",
       "    <tr>\n",
       "      <th>2</th>\n",
       "      <td>3</td>\n",
       "      <td>42</td>\n",
       "      <td>Male</td>\n",
       "      <td>Finance</td>\n",
       "      <td>90000</td>\n",
       "      <td>12</td>\n",
       "      <td>45</td>\n",
       "      <td>6</td>\n",
       "      <td>6</td>\n",
       "      <td>18</td>\n",
       "      <td>Yes</td>\n",
       "    </tr>\n",
       "    <tr>\n",
       "      <th>3</th>\n",
       "      <td>4</td>\n",
       "      <td>30</td>\n",
       "      <td>Female</td>\n",
       "      <td>Marketing</td>\n",
       "      <td>65000</td>\n",
       "      <td>5</td>\n",
       "      <td>42</td>\n",
       "      <td>7</td>\n",
       "      <td>9</td>\n",
       "      <td>25</td>\n",
       "      <td>No</td>\n",
       "    </tr>\n",
       "    <tr>\n",
       "      <th>4</th>\n",
       "      <td>5</td>\n",
       "      <td>50</td>\n",
       "      <td>Male</td>\n",
       "      <td>Sales</td>\n",
       "      <td>85000</td>\n",
       "      <td>15</td>\n",
       "      <td>50</td>\n",
       "      <td>8</td>\n",
       "      <td>5</td>\n",
       "      <td>12</td>\n",
       "      <td>Yes</td>\n",
       "    </tr>\n",
       "    <tr>\n",
       "      <th>5</th>\n",
       "      <td>6</td>\n",
       "      <td>41</td>\n",
       "      <td>Female</td>\n",
       "      <td>HR</td>\n",
       "      <td>62000</td>\n",
       "      <td>9</td>\n",
       "      <td>37</td>\n",
       "      <td>5</td>\n",
       "      <td>7</td>\n",
       "      <td>16</td>\n",
       "      <td>No</td>\n",
       "    </tr>\n",
       "    <tr>\n",
       "      <th>6</th>\n",
       "      <td>7</td>\n",
       "      <td>29</td>\n",
       "      <td>Male</td>\n",
       "      <td>IT</td>\n",
       "      <td>75000</td>\n",
       "      <td>4</td>\n",
       "      <td>39</td>\n",
       "      <td>6</td>\n",
       "      <td>8</td>\n",
       "      <td>22</td>\n",
       "      <td>No</td>\n",
       "    </tr>\n",
       "    <tr>\n",
       "      <th>7</th>\n",
       "      <td>8</td>\n",
       "      <td>33</td>\n",
       "      <td>Female</td>\n",
       "      <td>Finance</td>\n",
       "      <td>88000</td>\n",
       "      <td>11</td>\n",
       "      <td>44</td>\n",
       "      <td>7</td>\n",
       "      <td>6</td>\n",
       "      <td>20</td>\n",
       "      <td>Yes</td>\n",
       "    </tr>\n",
       "    <tr>\n",
       "      <th>8</th>\n",
       "      <td>9</td>\n",
       "      <td>45</td>\n",
       "      <td>Male</td>\n",
       "      <td>Sales</td>\n",
       "      <td>87000</td>\n",
       "      <td>14</td>\n",
       "      <td>48</td>\n",
       "      <td>9</td>\n",
       "      <td>5</td>\n",
       "      <td>14</td>\n",
       "      <td>Yes</td>\n",
       "    </tr>\n",
       "    <tr>\n",
       "      <th>9</th>\n",
       "      <td>10</td>\n",
       "      <td>39</td>\n",
       "      <td>Female</td>\n",
       "      <td>Marketing</td>\n",
       "      <td>67000</td>\n",
       "      <td>6</td>\n",
       "      <td>41</td>\n",
       "      <td>6</td>\n",
       "      <td>8</td>\n",
       "      <td>19</td>\n",
       "      <td>No</td>\n",
       "    </tr>\n",
       "  </tbody>\n",
       "</table>\n",
       "</div>"
      ],
      "text/plain": [
       "   ID  Age  Gender Department  Salary ($)  Experience (Years)  \\\n",
       "0   1   28    Male         IT       70000                   3   \n",
       "1   2   35  Female         HR       60000                   7   \n",
       "2   3   42    Male    Finance       90000                  12   \n",
       "3   4   30  Female  Marketing       65000                   5   \n",
       "4   5   50    Male      Sales       85000                  15   \n",
       "5   6   41  Female         HR       62000                   9   \n",
       "6   7   29    Male         IT       75000                   4   \n",
       "7   8   33  Female    Finance       88000                  11   \n",
       "8   9   45    Male      Sales       87000                  14   \n",
       "9  10   39  Female  Marketing       67000                   6   \n",
       "\n",
       "   Work Hours/Week  Projects Completed  Job Satisfaction (1-10)  \\\n",
       "0               40                   5                        7   \n",
       "1               38                   4                        8   \n",
       "2               45                   6                        6   \n",
       "3               42                   7                        9   \n",
       "4               50                   8                        5   \n",
       "5               37                   5                        7   \n",
       "6               39                   6                        8   \n",
       "7               44                   7                        6   \n",
       "8               48                   9                        5   \n",
       "9               41                   6                        8   \n",
       "\n",
       "   Training Hours Promotion Status  \n",
       "0              20               No  \n",
       "1              15              Yes  \n",
       "2              18              Yes  \n",
       "3              25               No  \n",
       "4              12              Yes  \n",
       "5              16               No  \n",
       "6              22               No  \n",
       "7              20              Yes  \n",
       "8              14              Yes  \n",
       "9              19               No  "
      ]
     },
     "execution_count": 4,
     "metadata": {},
     "output_type": "execute_result"
    }
   ],
   "source": [
    "data = {\n",
    "    \"ID\": [1, 2, 3, 4, 5, 6, 7, 8, 9, 10],\n",
    "    \"Age\": [28, 35, 42, 30, 50, 41, 29, 33, 45, 39],\n",
    "    \"Gender\": [\"Male\", \"Female\", \"Male\", \"Female\", \"Male\", \"Female\", \"Male\", \"Female\", \"Male\", \"Female\"],\n",
    "    \"Department\": [\"IT\", \"HR\", \"Finance\", \"Marketing\", \"Sales\", \"HR\", \"IT\", \"Finance\", \"Sales\", \"Marketing\"],\n",
    "    \"Salary ($)\": [70000, 60000, 90000, 65000, 85000, 62000, 75000, 88000, 87000, 67000],\n",
    "    \"Experience (Years)\": [3, 7, 12, 5, 15, 9, 4, 11, 14, 6],\n",
    "    \"Work Hours/Week\": [40, 38, 45, 42, 50, 37, 39, 44, 48, 41],\n",
    "    \"Projects Completed\": [5, 4, 6, 7, 8, 5, 6, 7, 9, 6],\n",
    "    \"Job Satisfaction (1-10)\": [7, 8, 6, 9, 5, 7, 8, 6, 5, 8],\n",
    "    \"Training Hours\": [20, 15, 18, 25, 12, 16, 22, 20, 14, 19],\n",
    "    \"Promotion Status\": [\"No\", \"Yes\", \"Yes\", \"No\", \"Yes\", \"No\", \"No\", \"Yes\", \"Yes\", \"No\"]\n",
    "}\n",
    "\n",
    "df = pd.DataFrame(data)\n",
    "df.head(10) # Display data"
   ]
  },
  {
   "cell_type": "markdown",
   "metadata": {},
   "source": [
    "b. i: The total number of rows and columns"
   ]
  },
  {
   "cell_type": "code",
   "execution_count": 5,
   "metadata": {},
   "outputs": [
    {
     "data": {
      "text/plain": [
       "(10, 11)"
      ]
     },
     "execution_count": 5,
     "metadata": {},
     "output_type": "execute_result"
    }
   ],
   "source": [
    "df.shape # shape of data"
   ]
  },
  {
   "cell_type": "markdown",
   "metadata": {},
   "source": [
    "b. ii: Summary statistics"
   ]
  },
  {
   "cell_type": "code",
   "execution_count": 6,
   "metadata": {},
   "outputs": [
    {
     "data": {
      "text/html": [
       "<div>\n",
       "<style scoped>\n",
       "    .dataframe tbody tr th:only-of-type {\n",
       "        vertical-align: middle;\n",
       "    }\n",
       "\n",
       "    .dataframe tbody tr th {\n",
       "        vertical-align: top;\n",
       "    }\n",
       "\n",
       "    .dataframe thead th {\n",
       "        text-align: right;\n",
       "    }\n",
       "</style>\n",
       "<table border=\"1\" class=\"dataframe\">\n",
       "  <thead>\n",
       "    <tr style=\"text-align: right;\">\n",
       "      <th></th>\n",
       "      <th>ID</th>\n",
       "      <th>Age</th>\n",
       "      <th>Salary ($)</th>\n",
       "      <th>Experience (Years)</th>\n",
       "      <th>Work Hours/Week</th>\n",
       "      <th>Projects Completed</th>\n",
       "      <th>Job Satisfaction (1-10)</th>\n",
       "      <th>Training Hours</th>\n",
       "    </tr>\n",
       "  </thead>\n",
       "  <tbody>\n",
       "    <tr>\n",
       "      <th>count</th>\n",
       "      <td>10.00000</td>\n",
       "      <td>10.000000</td>\n",
       "      <td>10.000000</td>\n",
       "      <td>10.000000</td>\n",
       "      <td>10.000000</td>\n",
       "      <td>10.000000</td>\n",
       "      <td>10.00000</td>\n",
       "      <td>10.000000</td>\n",
       "    </tr>\n",
       "    <tr>\n",
       "      <th>mean</th>\n",
       "      <td>5.50000</td>\n",
       "      <td>37.200000</td>\n",
       "      <td>74900.000000</td>\n",
       "      <td>8.600000</td>\n",
       "      <td>42.400000</td>\n",
       "      <td>6.300000</td>\n",
       "      <td>6.90000</td>\n",
       "      <td>18.100000</td>\n",
       "    </tr>\n",
       "    <tr>\n",
       "      <th>std</th>\n",
       "      <td>3.02765</td>\n",
       "      <td>7.390685</td>\n",
       "      <td>11647.126493</td>\n",
       "      <td>4.247875</td>\n",
       "      <td>4.299871</td>\n",
       "      <td>1.494434</td>\n",
       "      <td>1.37032</td>\n",
       "      <td>3.928528</td>\n",
       "    </tr>\n",
       "    <tr>\n",
       "      <th>min</th>\n",
       "      <td>1.00000</td>\n",
       "      <td>28.000000</td>\n",
       "      <td>60000.000000</td>\n",
       "      <td>3.000000</td>\n",
       "      <td>37.000000</td>\n",
       "      <td>4.000000</td>\n",
       "      <td>5.00000</td>\n",
       "      <td>12.000000</td>\n",
       "    </tr>\n",
       "    <tr>\n",
       "      <th>25%</th>\n",
       "      <td>3.25000</td>\n",
       "      <td>30.750000</td>\n",
       "      <td>65500.000000</td>\n",
       "      <td>5.250000</td>\n",
       "      <td>39.250000</td>\n",
       "      <td>5.250000</td>\n",
       "      <td>6.00000</td>\n",
       "      <td>15.250000</td>\n",
       "    </tr>\n",
       "    <tr>\n",
       "      <th>50%</th>\n",
       "      <td>5.50000</td>\n",
       "      <td>37.000000</td>\n",
       "      <td>72500.000000</td>\n",
       "      <td>8.000000</td>\n",
       "      <td>41.500000</td>\n",
       "      <td>6.000000</td>\n",
       "      <td>7.00000</td>\n",
       "      <td>18.500000</td>\n",
       "    </tr>\n",
       "    <tr>\n",
       "      <th>75%</th>\n",
       "      <td>7.75000</td>\n",
       "      <td>41.750000</td>\n",
       "      <td>86500.000000</td>\n",
       "      <td>11.750000</td>\n",
       "      <td>44.750000</td>\n",
       "      <td>7.000000</td>\n",
       "      <td>8.00000</td>\n",
       "      <td>20.000000</td>\n",
       "    </tr>\n",
       "    <tr>\n",
       "      <th>max</th>\n",
       "      <td>10.00000</td>\n",
       "      <td>50.000000</td>\n",
       "      <td>90000.000000</td>\n",
       "      <td>15.000000</td>\n",
       "      <td>50.000000</td>\n",
       "      <td>9.000000</td>\n",
       "      <td>9.00000</td>\n",
       "      <td>25.000000</td>\n",
       "    </tr>\n",
       "  </tbody>\n",
       "</table>\n",
       "</div>"
      ],
      "text/plain": [
       "             ID        Age    Salary ($)  Experience (Years)  Work Hours/Week  \\\n",
       "count  10.00000  10.000000     10.000000           10.000000        10.000000   \n",
       "mean    5.50000  37.200000  74900.000000            8.600000        42.400000   \n",
       "std     3.02765   7.390685  11647.126493            4.247875         4.299871   \n",
       "min     1.00000  28.000000  60000.000000            3.000000        37.000000   \n",
       "25%     3.25000  30.750000  65500.000000            5.250000        39.250000   \n",
       "50%     5.50000  37.000000  72500.000000            8.000000        41.500000   \n",
       "75%     7.75000  41.750000  86500.000000           11.750000        44.750000   \n",
       "max    10.00000  50.000000  90000.000000           15.000000        50.000000   \n",
       "\n",
       "       Projects Completed  Job Satisfaction (1-10)  Training Hours  \n",
       "count           10.000000                 10.00000       10.000000  \n",
       "mean             6.300000                  6.90000       18.100000  \n",
       "std              1.494434                  1.37032        3.928528  \n",
       "min              4.000000                  5.00000       12.000000  \n",
       "25%              5.250000                  6.00000       15.250000  \n",
       "50%              6.000000                  7.00000       18.500000  \n",
       "75%              7.000000                  8.00000       20.000000  \n",
       "max              9.000000                  9.00000       25.000000  "
      ]
     },
     "execution_count": 6,
     "metadata": {},
     "output_type": "execute_result"
    }
   ],
   "source": [
    "df.describe()"
   ]
  },
  {
   "cell_type": "markdown",
   "metadata": {},
   "source": [
    "b. iii: Distinct Values"
   ]
  },
  {
   "cell_type": "code",
   "execution_count": 7,
   "metadata": {},
   "outputs": [
    {
     "name": "stdout",
     "output_type": "stream",
     "text": [
      "Department\n",
      "IT           2\n",
      "HR           2\n",
      "Finance      2\n",
      "Marketing    2\n",
      "Sales        2\n",
      "Name: count, dtype: int64\n",
      "Promotion Status\n",
      "No     5\n",
      "Yes    5\n",
      "Name: count, dtype: int64\n"
     ]
    }
   ],
   "source": [
    "print(df['Department'].value_counts()) # frequency of each department\n",
    "print(df['Promotion Status'].value_counts()) # frequency of promotion status"
   ]
  },
  {
   "cell_type": "markdown",
   "metadata": {},
   "source": [
    "Handling Missing Values"
   ]
  },
  {
   "cell_type": "code",
   "execution_count": 8,
   "metadata": {},
   "outputs": [
    {
     "data": {
      "text/plain": [
       "ID                         0\n",
       "Age                        0\n",
       "Gender                     0\n",
       "Department                 0\n",
       "Salary ($)                 0\n",
       "Experience (Years)         0\n",
       "Work Hours/Week            0\n",
       "Projects Completed         0\n",
       "Job Satisfaction (1-10)    0\n",
       "Training Hours             0\n",
       "Promotion Status           0\n",
       "dtype: int64"
      ]
     },
     "execution_count": 8,
     "metadata": {},
     "output_type": "execute_result"
    }
   ],
   "source": [
    "df.isnull().sum()"
   ]
  },
  {
   "cell_type": "code",
   "execution_count": 8,
   "metadata": {},
   "outputs": [],
   "source": [
    "# No missing values , but if there were any missing values we apply the following\n",
    "\n",
    "# df.fillna(df.mean(), inplace=True) # fill missing values with mean if there are not any outliers\n",
    "# df.fillna(df.median(), inplace=True) # fill missing values with median if there are outliers"
   ]
  },
  {
   "cell_type": "markdown",
   "metadata": {},
   "source": [
    "Visualizing the data\n",
    "\n",
    " i: Histogram for Salary Distribution"
   ]
  },
  {
   "cell_type": "code",
   "execution_count": 9,
   "metadata": {},
   "outputs": [
    {
     "data": {
      "image/png": "[encoded data removed]",
      "text/plain": [
       "<Figure size 800x500 with 1 Axes>"
      ]
     },
     "metadata": {},
     "output_type": "display_data"
    }
   ],
   "source": [
    "sns.set(style=\"whitegrid\")\n",
    "plt.figure(figsize=(8, 5))\n",
    "sns.histplot(df[\"Salary ($)\"], bins=10, kde=True, color='blue')\n",
    "plt.xlabel(\"Salary ($)\")\n",
    "plt.ylabel(\"Frequency\")\n",
    "plt.title(\"Distribution of Employee Salaries\")\n",
    "plt.show()"
   ]
  },
  {
   "cell_type": "markdown",
   "metadata": {},
   "source": [
    "ii: Bar Graph for Number of Employees in each Department"
   ]
  },
  {
   "cell_type": "code",
   "execution_count": 10,
   "metadata": {},
   "outputs": [
    {
     "name": "stderr",
     "output_type": "stream",
     "text": [
      "C:\\Users\\memuz\\AppData\\Local\\Temp\\ipykernel_9096\\3692983226.py:2: FutureWarning: \n",
      "\n",
      "Passing `palette` without assigning `hue` is deprecated and will be removed in v0.14.0. Assign the `x` variable to `hue` and set `legend=False` for the same effect.\n",
      "\n",
      "  sns.countplot(x=\"Department\", data=df, palette=\"viridis\")\n"
     ]
    },
    {
     "data": {
      "image/png": "[encoded data removed]",
      "text/plain": [
       "<Figure size 800x500 with 1 Axes>"
      ]
     },
     "metadata": {},
     "output_type": "display_data"
    }
   ],
   "source": [
    "plt.figure(figsize=(8, 5))\n",
    "sns.countplot(x=\"Department\", data=df, palette=\"viridis\")\n",
    "plt.xlabel(\"Department\")\n",
    "plt.ylabel(\"Number of Employees\")\n",
    "plt.title(\"Number of Employees in Each Department\")\n",
    "plt.xticks(rotation=45)\n",
    "plt.show()"
   ]
  },
  {
   "cell_type": "markdown",
   "metadata": {},
   "source": [
    "iii: Box Plot for Experience (Years)"
   ]
  },
  {
   "cell_type": "code",
   "execution_count": 11,
   "metadata": {},
   "outputs": [
    {
     "data": {
      "image/png": "[encoded data removed]",
      "text/plain": [
       "<Figure size 600x500 with 1 Axes>"
      ]
     },
     "metadata": {},
     "output_type": "display_data"
    }
   ],
   "source": [
    "plt.figure(figsize=(6, 5))\n",
    "sns.boxplot(y=df[\"Experience (Years)\"], color=\"yellow\")\n",
    "plt.ylabel(\"Experience (Years)\")\n",
    "plt.title(\"Box Plot of Employee Experience\")\n",
    "plt.show()"
   ]
  },
  {
   "cell_type": "markdown",
   "metadata": {},
   "source": [
    "***Question2: (Data Analysis of Heart Disease Dataset)***"
   ]
  },
  {
   "cell_type": "markdown",
   "metadata": {},
   "source": [
    "a. Loading .csv file using pandas"
   ]
  },
  {
   "cell_type": "code",
   "execution_count": 12,
   "metadata": {},
   "outputs": [],
   "source": [
    "df1 = pd.read_csv(\"F:\\\\Semester Material - Muzammil\\\\FAST-KHI-Semester-4\\\\Probability & Statistics\\\\Assignments\\\\Assignment01 Spring'25\\\\heart_disease.csv\")"
   ]
  },
  {
   "cell_type": "code",
   "execution_count": 13,
   "metadata": {},
   "outputs": [
    {
     "data": {
      "text/html": [
       "<div>\n",
       "<style scoped>\n",
       "    .dataframe tbody tr th:only-of-type {\n",
       "        vertical-align: middle;\n",
       "    }\n",
       "\n",
       "    .dataframe tbody tr th {\n",
       "        vertical-align: top;\n",
       "    }\n",
       "\n",
       "    .dataframe thead th {\n",
       "        text-align: right;\n",
       "    }\n",
       "</style>\n",
       "<table border=\"1\" class=\"dataframe\">\n",
       "  <thead>\n",
       "    <tr style=\"text-align: right;\">\n",
       "      <th></th>\n",
       "      <th>Age</th>\n",
       "      <th>Gender</th>\n",
       "      <th>Blood Pressure</th>\n",
       "      <th>Cholesterol Level</th>\n",
       "      <th>Exercise Habits</th>\n",
       "      <th>Smoking</th>\n",
       "      <th>Family Heart Disease</th>\n",
       "      <th>Diabetes</th>\n",
       "      <th>BMI</th>\n",
       "      <th>High Blood Pressure</th>\n",
       "      <th>...</th>\n",
       "      <th>High LDL Cholesterol</th>\n",
       "      <th>Alcohol Consumption</th>\n",
       "      <th>Stress Level</th>\n",
       "      <th>Sleep Hours</th>\n",
       "      <th>Sugar Consumption</th>\n",
       "      <th>Triglyceride Level</th>\n",
       "      <th>Fasting Blood Sugar</th>\n",
       "      <th>CRP Level</th>\n",
       "      <th>Homocysteine Level</th>\n",
       "      <th>Heart Disease Status</th>\n",
       "    </tr>\n",
       "  </thead>\n",
       "  <tbody>\n",
       "    <tr>\n",
       "      <th>0</th>\n",
       "      <td>56.0</td>\n",
       "      <td>Male</td>\n",
       "      <td>153.0</td>\n",
       "      <td>155.0</td>\n",
       "      <td>High</td>\n",
       "      <td>Yes</td>\n",
       "      <td>Yes</td>\n",
       "      <td>No</td>\n",
       "      <td>24.991591</td>\n",
       "      <td>Yes</td>\n",
       "      <td>...</td>\n",
       "      <td>No</td>\n",
       "      <td>High</td>\n",
       "      <td>Medium</td>\n",
       "      <td>7.633228</td>\n",
       "      <td>Medium</td>\n",
       "      <td>342.0</td>\n",
       "      <td>NaN</td>\n",
       "      <td>12.969246</td>\n",
       "      <td>12.387250</td>\n",
       "      <td>No</td>\n",
       "    </tr>\n",
       "    <tr>\n",
       "      <th>1</th>\n",
       "      <td>69.0</td>\n",
       "      <td>Female</td>\n",
       "      <td>146.0</td>\n",
       "      <td>286.0</td>\n",
       "      <td>High</td>\n",
       "      <td>No</td>\n",
       "      <td>Yes</td>\n",
       "      <td>Yes</td>\n",
       "      <td>25.221799</td>\n",
       "      <td>No</td>\n",
       "      <td>...</td>\n",
       "      <td>No</td>\n",
       "      <td>Medium</td>\n",
       "      <td>High</td>\n",
       "      <td>8.744034</td>\n",
       "      <td>Medium</td>\n",
       "      <td>133.0</td>\n",
       "      <td>157.0</td>\n",
       "      <td>9.355389</td>\n",
       "      <td>19.298875</td>\n",
       "      <td>No</td>\n",
       "    </tr>\n",
       "    <tr>\n",
       "      <th>2</th>\n",
       "      <td>46.0</td>\n",
       "      <td>Male</td>\n",
       "      <td>126.0</td>\n",
       "      <td>216.0</td>\n",
       "      <td>Low</td>\n",
       "      <td>No</td>\n",
       "      <td>No</td>\n",
       "      <td>No</td>\n",
       "      <td>29.855447</td>\n",
       "      <td>No</td>\n",
       "      <td>...</td>\n",
       "      <td>Yes</td>\n",
       "      <td>Low</td>\n",
       "      <td>Low</td>\n",
       "      <td>4.440440</td>\n",
       "      <td>Low</td>\n",
       "      <td>393.0</td>\n",
       "      <td>92.0</td>\n",
       "      <td>12.709873</td>\n",
       "      <td>11.230926</td>\n",
       "      <td>No</td>\n",
       "    </tr>\n",
       "    <tr>\n",
       "      <th>3</th>\n",
       "      <td>32.0</td>\n",
       "      <td>Female</td>\n",
       "      <td>122.0</td>\n",
       "      <td>293.0</td>\n",
       "      <td>High</td>\n",
       "      <td>Yes</td>\n",
       "      <td>Yes</td>\n",
       "      <td>No</td>\n",
       "      <td>24.130477</td>\n",
       "      <td>Yes</td>\n",
       "      <td>...</td>\n",
       "      <td>Yes</td>\n",
       "      <td>Low</td>\n",
       "      <td>High</td>\n",
       "      <td>5.249405</td>\n",
       "      <td>High</td>\n",
       "      <td>293.0</td>\n",
       "      <td>94.0</td>\n",
       "      <td>12.509046</td>\n",
       "      <td>5.961958</td>\n",
       "      <td>No</td>\n",
       "    </tr>\n",
       "    <tr>\n",
       "      <th>4</th>\n",
       "      <td>60.0</td>\n",
       "      <td>Male</td>\n",
       "      <td>166.0</td>\n",
       "      <td>242.0</td>\n",
       "      <td>Low</td>\n",
       "      <td>Yes</td>\n",
       "      <td>Yes</td>\n",
       "      <td>Yes</td>\n",
       "      <td>20.486289</td>\n",
       "      <td>Yes</td>\n",
       "      <td>...</td>\n",
       "      <td>No</td>\n",
       "      <td>Low</td>\n",
       "      <td>High</td>\n",
       "      <td>7.030971</td>\n",
       "      <td>High</td>\n",
       "      <td>263.0</td>\n",
       "      <td>154.0</td>\n",
       "      <td>10.381259</td>\n",
       "      <td>8.153887</td>\n",
       "      <td>No</td>\n",
       "    </tr>\n",
       "    <tr>\n",
       "      <th>5</th>\n",
       "      <td>25.0</td>\n",
       "      <td>Male</td>\n",
       "      <td>152.0</td>\n",
       "      <td>257.0</td>\n",
       "      <td>Low</td>\n",
       "      <td>Yes</td>\n",
       "      <td>No</td>\n",
       "      <td>No</td>\n",
       "      <td>28.144681</td>\n",
       "      <td>No</td>\n",
       "      <td>...</td>\n",
       "      <td>No</td>\n",
       "      <td>Low</td>\n",
       "      <td>Medium</td>\n",
       "      <td>5.504876</td>\n",
       "      <td>Low</td>\n",
       "      <td>126.0</td>\n",
       "      <td>91.0</td>\n",
       "      <td>4.297575</td>\n",
       "      <td>10.815983</td>\n",
       "      <td>No</td>\n",
       "    </tr>\n",
       "    <tr>\n",
       "      <th>6</th>\n",
       "      <td>78.0</td>\n",
       "      <td>Female</td>\n",
       "      <td>121.0</td>\n",
       "      <td>175.0</td>\n",
       "      <td>High</td>\n",
       "      <td>Yes</td>\n",
       "      <td>Yes</td>\n",
       "      <td>Yes</td>\n",
       "      <td>18.042332</td>\n",
       "      <td>No</td>\n",
       "      <td>...</td>\n",
       "      <td>No</td>\n",
       "      <td>Medium</td>\n",
       "      <td>Medium</td>\n",
       "      <td>9.240911</td>\n",
       "      <td>Medium</td>\n",
       "      <td>107.0</td>\n",
       "      <td>85.0</td>\n",
       "      <td>11.582983</td>\n",
       "      <td>19.659461</td>\n",
       "      <td>No</td>\n",
       "    </tr>\n",
       "    <tr>\n",
       "      <th>7</th>\n",
       "      <td>38.0</td>\n",
       "      <td>Female</td>\n",
       "      <td>161.0</td>\n",
       "      <td>187.0</td>\n",
       "      <td>Low</td>\n",
       "      <td>Yes</td>\n",
       "      <td>Yes</td>\n",
       "      <td>Yes</td>\n",
       "      <td>34.736683</td>\n",
       "      <td>No</td>\n",
       "      <td>...</td>\n",
       "      <td>No</td>\n",
       "      <td>Low</td>\n",
       "      <td>Medium</td>\n",
       "      <td>7.841008</td>\n",
       "      <td>High</td>\n",
       "      <td>228.0</td>\n",
       "      <td>111.0</td>\n",
       "      <td>4.929381</td>\n",
       "      <td>17.146599</td>\n",
       "      <td>No</td>\n",
       "    </tr>\n",
       "    <tr>\n",
       "      <th>8</th>\n",
       "      <td>56.0</td>\n",
       "      <td>Female</td>\n",
       "      <td>135.0</td>\n",
       "      <td>291.0</td>\n",
       "      <td>Low</td>\n",
       "      <td>No</td>\n",
       "      <td>Yes</td>\n",
       "      <td>Yes</td>\n",
       "      <td>34.493112</td>\n",
       "      <td>Yes</td>\n",
       "      <td>...</td>\n",
       "      <td>Yes</td>\n",
       "      <td>High</td>\n",
       "      <td>Low</td>\n",
       "      <td>6.941403</td>\n",
       "      <td>High</td>\n",
       "      <td>317.0</td>\n",
       "      <td>103.0</td>\n",
       "      <td>5.119015</td>\n",
       "      <td>6.051129</td>\n",
       "      <td>No</td>\n",
       "    </tr>\n",
       "    <tr>\n",
       "      <th>9</th>\n",
       "      <td>75.0</td>\n",
       "      <td>Male</td>\n",
       "      <td>144.0</td>\n",
       "      <td>252.0</td>\n",
       "      <td>Low</td>\n",
       "      <td>Yes</td>\n",
       "      <td>Yes</td>\n",
       "      <td>No</td>\n",
       "      <td>30.142149</td>\n",
       "      <td>No</td>\n",
       "      <td>...</td>\n",
       "      <td>Yes</td>\n",
       "      <td>Low</td>\n",
       "      <td>Medium</td>\n",
       "      <td>4.002662</td>\n",
       "      <td>High</td>\n",
       "      <td>199.0</td>\n",
       "      <td>96.0</td>\n",
       "      <td>10.005698</td>\n",
       "      <td>7.604357</td>\n",
       "      <td>No</td>\n",
       "    </tr>\n",
       "  </tbody>\n",
       "</table>\n",
       "<p>10 rows × 21 columns</p>\n",
       "</div>"
      ],
      "text/plain": [
       "    Age  Gender  Blood Pressure  Cholesterol Level Exercise Habits Smoking  \\\n",
       "0  56.0    Male           153.0              155.0            High     Yes   \n",
       "1  69.0  Female           146.0              286.0            High      No   \n",
       "2  46.0    Male           126.0              216.0             Low      No   \n",
       "3  32.0  Female           122.0              293.0            High     Yes   \n",
       "4  60.0    Male           166.0              242.0             Low     Yes   \n",
       "5  25.0    Male           152.0              257.0             Low     Yes   \n",
       "6  78.0  Female           121.0              175.0            High     Yes   \n",
       "7  38.0  Female           161.0              187.0             Low     Yes   \n",
       "8  56.0  Female           135.0              291.0             Low      No   \n",
       "9  75.0    Male           144.0              252.0             Low     Yes   \n",
       "\n",
       "  Family Heart Disease Diabetes        BMI High Blood Pressure  ...  \\\n",
       "0                  Yes       No  24.991591                 Yes  ...   \n",
       "1                  Yes      Yes  25.221799                  No  ...   \n",
       "2                   No       No  29.855447                  No  ...   \n",
       "3                  Yes       No  24.130477                 Yes  ...   \n",
       "4                  Yes      Yes  20.486289                 Yes  ...   \n",
       "5                   No       No  28.144681                  No  ...   \n",
       "6                  Yes      Yes  18.042332                  No  ...   \n",
       "7                  Yes      Yes  34.736683                  No  ...   \n",
       "8                  Yes      Yes  34.493112                 Yes  ...   \n",
       "9                  Yes       No  30.142149                  No  ...   \n",
       "\n",
       "  High LDL Cholesterol Alcohol Consumption Stress Level Sleep Hours  \\\n",
       "0                   No                High       Medium    7.633228   \n",
       "1                   No              Medium         High    8.744034   \n",
       "2                  Yes                 Low          Low    4.440440   \n",
       "3                  Yes                 Low         High    5.249405   \n",
       "4                   No                 Low         High    7.030971   \n",
       "5                   No                 Low       Medium    5.504876   \n",
       "6                   No              Medium       Medium    9.240911   \n",
       "7                   No                 Low       Medium    7.841008   \n",
       "8                  Yes                High          Low    6.941403   \n",
       "9                  Yes                 Low       Medium    4.002662   \n",
       "\n",
       "   Sugar Consumption Triglyceride Level  Fasting Blood Sugar  CRP Level  \\\n",
       "0             Medium              342.0                  NaN  12.969246   \n",
       "1             Medium              133.0                157.0   9.355389   \n",
       "2                Low              393.0                 92.0  12.709873   \n",
       "3               High              293.0                 94.0  12.509046   \n",
       "4               High              263.0                154.0  10.381259   \n",
       "5                Low              126.0                 91.0   4.297575   \n",
       "6             Medium              107.0                 85.0  11.582983   \n",
       "7               High              228.0                111.0   4.929381   \n",
       "8               High              317.0                103.0   5.119015   \n",
       "9               High              199.0                 96.0  10.005698   \n",
       "\n",
       "   Homocysteine Level  Heart Disease Status  \n",
       "0           12.387250                    No  \n",
       "1           19.298875                    No  \n",
       "2           11.230926                    No  \n",
       "3            5.961958                    No  \n",
       "4            8.153887                    No  \n",
       "5           10.815983                    No  \n",
       "6           19.659461                    No  \n",
       "7           17.146599                    No  \n",
       "8            6.051129                    No  \n",
       "9            7.604357                    No  \n",
       "\n",
       "[10 rows x 21 columns]"
      ]
     },
     "execution_count": 13,
     "metadata": {},
     "output_type": "execute_result"
    }
   ],
   "source": [
    "df1.head(10) # Display data"
   ]
  },
  {
   "cell_type": "markdown",
   "metadata": {},
   "source": [
    "b. i: Rows and Columns"
   ]
  },
  {
   "cell_type": "code",
   "execution_count": 14,
   "metadata": {},
   "outputs": [
    {
     "data": {
      "text/plain": [
       "(10000, 21)"
      ]
     },
     "execution_count": 14,
     "metadata": {},
     "output_type": "execute_result"
    }
   ],
   "source": [
    "df1.shape"
   ]
  },
  {
   "cell_type": "markdown",
   "metadata": {},
   "source": [
    "b. ii: Summary Statistics"
   ]
  },
  {
   "cell_type": "code",
   "execution_count": 15,
   "metadata": {},
   "outputs": [
    {
     "data": {
      "text/html": [
       "<div>\n",
       "<style scoped>\n",
       "    .dataframe tbody tr th:only-of-type {\n",
       "        vertical-align: middle;\n",
       "    }\n",
       "\n",
       "    .dataframe tbody tr th {\n",
       "        vertical-align: top;\n",
       "    }\n",
       "\n",
       "    .dataframe thead th {\n",
       "        text-align: right;\n",
       "    }\n",
       "</style>\n",
       "<table border=\"1\" class=\"dataframe\">\n",
       "  <thead>\n",
       "    <tr style=\"text-align: right;\">\n",
       "      <th></th>\n",
       "      <th>Age</th>\n",
       "      <th>Blood Pressure</th>\n",
       "      <th>Cholesterol Level</th>\n",
       "      <th>BMI</th>\n",
       "      <th>Sleep Hours</th>\n",
       "      <th>Triglyceride Level</th>\n",
       "      <th>Fasting Blood Sugar</th>\n",
       "      <th>CRP Level</th>\n",
       "      <th>Homocysteine Level</th>\n",
       "    </tr>\n",
       "  </thead>\n",
       "  <tbody>\n",
       "    <tr>\n",
       "      <th>count</th>\n",
       "      <td>9971.000000</td>\n",
       "      <td>9981.000000</td>\n",
       "      <td>9970.000000</td>\n",
       "      <td>9978.000000</td>\n",
       "      <td>9975.000000</td>\n",
       "      <td>9974.000000</td>\n",
       "      <td>9978.000000</td>\n",
       "      <td>9974.000000</td>\n",
       "      <td>9980.000000</td>\n",
       "    </tr>\n",
       "    <tr>\n",
       "      <th>mean</th>\n",
       "      <td>49.296259</td>\n",
       "      <td>149.757740</td>\n",
       "      <td>225.425577</td>\n",
       "      <td>29.077269</td>\n",
       "      <td>6.991329</td>\n",
       "      <td>250.734409</td>\n",
       "      <td>120.142213</td>\n",
       "      <td>7.472201</td>\n",
       "      <td>12.456271</td>\n",
       "    </tr>\n",
       "    <tr>\n",
       "      <th>std</th>\n",
       "      <td>18.193970</td>\n",
       "      <td>17.572969</td>\n",
       "      <td>43.575809</td>\n",
       "      <td>6.307098</td>\n",
       "      <td>1.753195</td>\n",
       "      <td>87.067226</td>\n",
       "      <td>23.584011</td>\n",
       "      <td>4.340248</td>\n",
       "      <td>4.323426</td>\n",
       "    </tr>\n",
       "    <tr>\n",
       "      <th>min</th>\n",
       "      <td>18.000000</td>\n",
       "      <td>120.000000</td>\n",
       "      <td>150.000000</td>\n",
       "      <td>18.002837</td>\n",
       "      <td>4.000605</td>\n",
       "      <td>100.000000</td>\n",
       "      <td>80.000000</td>\n",
       "      <td>0.003647</td>\n",
       "      <td>5.000236</td>\n",
       "    </tr>\n",
       "    <tr>\n",
       "      <th>25%</th>\n",
       "      <td>34.000000</td>\n",
       "      <td>134.000000</td>\n",
       "      <td>187.000000</td>\n",
       "      <td>23.658075</td>\n",
       "      <td>5.449866</td>\n",
       "      <td>176.000000</td>\n",
       "      <td>99.000000</td>\n",
       "      <td>3.674126</td>\n",
       "      <td>8.723334</td>\n",
       "    </tr>\n",
       "    <tr>\n",
       "      <th>50%</th>\n",
       "      <td>49.000000</td>\n",
       "      <td>150.000000</td>\n",
       "      <td>226.000000</td>\n",
       "      <td>29.079492</td>\n",
       "      <td>7.003252</td>\n",
       "      <td>250.000000</td>\n",
       "      <td>120.000000</td>\n",
       "      <td>7.472164</td>\n",
       "      <td>12.409395</td>\n",
       "    </tr>\n",
       "    <tr>\n",
       "      <th>75%</th>\n",
       "      <td>65.000000</td>\n",
       "      <td>165.000000</td>\n",
       "      <td>263.000000</td>\n",
       "      <td>34.520015</td>\n",
       "      <td>8.531577</td>\n",
       "      <td>326.000000</td>\n",
       "      <td>141.000000</td>\n",
       "      <td>11.255592</td>\n",
       "      <td>16.140564</td>\n",
       "    </tr>\n",
       "    <tr>\n",
       "      <th>max</th>\n",
       "      <td>80.000000</td>\n",
       "      <td>180.000000</td>\n",
       "      <td>300.000000</td>\n",
       "      <td>39.996954</td>\n",
       "      <td>9.999952</td>\n",
       "      <td>400.000000</td>\n",
       "      <td>160.000000</td>\n",
       "      <td>14.997087</td>\n",
       "      <td>19.999037</td>\n",
       "    </tr>\n",
       "  </tbody>\n",
       "</table>\n",
       "</div>"
      ],
      "text/plain": [
       "               Age  Blood Pressure  Cholesterol Level          BMI  \\\n",
       "count  9971.000000     9981.000000        9970.000000  9978.000000   \n",
       "mean     49.296259      149.757740         225.425577    29.077269   \n",
       "std      18.193970       17.572969          43.575809     6.307098   \n",
       "min      18.000000      120.000000         150.000000    18.002837   \n",
       "25%      34.000000      134.000000         187.000000    23.658075   \n",
       "50%      49.000000      150.000000         226.000000    29.079492   \n",
       "75%      65.000000      165.000000         263.000000    34.520015   \n",
       "max      80.000000      180.000000         300.000000    39.996954   \n",
       "\n",
       "       Sleep Hours  Triglyceride Level  Fasting Blood Sugar    CRP Level  \\\n",
       "count  9975.000000         9974.000000          9978.000000  9974.000000   \n",
       "mean      6.991329          250.734409           120.142213     7.472201   \n",
       "std       1.753195           87.067226            23.584011     4.340248   \n",
       "min       4.000605          100.000000            80.000000     0.003647   \n",
       "25%       5.449866          176.000000            99.000000     3.674126   \n",
       "50%       7.003252          250.000000           120.000000     7.472164   \n",
       "75%       8.531577          326.000000           141.000000    11.255592   \n",
       "max       9.999952          400.000000           160.000000    14.997087   \n",
       "\n",
       "       Homocysteine Level  \n",
       "count         9980.000000  \n",
       "mean            12.456271  \n",
       "std              4.323426  \n",
       "min              5.000236  \n",
       "25%              8.723334  \n",
       "50%             12.409395  \n",
       "75%             16.140564  \n",
       "max             19.999037  "
      ]
     },
     "execution_count": 15,
     "metadata": {},
     "output_type": "execute_result"
    }
   ],
   "source": [
    "df1.describe()"
   ]
  },
  {
   "cell_type": "markdown",
   "metadata": {},
   "source": [
    "b. iii: Distinct Values"
   ]
  },
  {
   "cell_type": "code",
   "execution_count": 16,
   "metadata": {},
   "outputs": [
    {
     "name": "stdout",
     "output_type": "stream",
     "text": [
      "Gender\n",
      "Male      5003\n",
      "Female    4978\n",
      "Name: count, dtype: int64\n",
      "Smoking\n",
      "Yes    5123\n",
      "No     4852\n",
      "Name: count, dtype: int64\n"
     ]
    }
   ],
   "source": [
    "print(df1['Gender'].value_counts()) # frequency of both gender\n",
    "print(df1['Smoking'].value_counts()) # frequency of smokers"
   ]
  },
  {
   "cell_type": "markdown",
   "metadata": {},
   "source": [
    "Handling Missing Values"
   ]
  },
  {
   "cell_type": "code",
   "execution_count": 17,
   "metadata": {},
   "outputs": [
    {
     "data": {
      "text/plain": [
       "Age                       29\n",
       "Gender                    19\n",
       "Blood Pressure            19\n",
       "Cholesterol Level         30\n",
       "Exercise Habits           25\n",
       "Smoking                   25\n",
       "Family Heart Disease      21\n",
       "Diabetes                  30\n",
       "BMI                       22\n",
       "High Blood Pressure       26\n",
       "Low HDL Cholesterol       25\n",
       "High LDL Cholesterol      26\n",
       "Alcohol Consumption     2586\n",
       "Stress Level              22\n",
       "Sleep Hours               25\n",
       "Sugar Consumption         30\n",
       "Triglyceride Level        26\n",
       "Fasting Blood Sugar       22\n",
       "CRP Level                 26\n",
       "Homocysteine Level        20\n",
       "Heart Disease Status       0\n",
       "dtype: int64"
      ]
     },
     "execution_count": 17,
     "metadata": {},
     "output_type": "execute_result"
    }
   ],
   "source": [
    "df1.isnull().sum()"
   ]
  },
  {
   "cell_type": "code",
   "execution_count": 18,
   "metadata": {},
   "outputs": [],
   "source": [
    "X = df1.drop('Heart Disease Status', axis=1)\n",
    "y = df1['Heart Disease Status']"
   ]
  },
  {
   "cell_type": "code",
   "execution_count": 21,
   "metadata": {},
   "outputs": [],
   "source": [
    "num_col = X.select_dtypes(include=['float64']).columns\n",
    "cat_col = X.select_dtypes(include=['object']).columns\n",
    "\n",
    "for col in X.columns:\n",
    "    if X[col].isnull().sum() > 0:  \n",
    "        \n",
    "        # Handling numerical columns\n",
    "        if col in num_col:\n",
    "            q1 = X[col].quantile(0.25)\n",
    "            q3 = X[col].quantile(0.75)\n",
    "            iqr = q3 - q1\n",
    "            lower_bound = q1 - 1.5 * iqr\n",
    "            upper_bound = q3 + 1.5 * iqr\n",
    "            \n",
    "            # Using IQR Method to detect outliers \n",
    "            outliers = X[(X[col] < lower_bound) | (X[col] > upper_bound)]\n",
    "            \n",
    "            if not outliers.empty:\n",
    "                X[col].fillna(X[col].median(), inplace=True)  # Use median if outliers exist\n",
    "                print(f\"Outliers detected in {col}, using median for imputation.\")\n",
    "            else:\n",
    "                X[col].fillna(X[col].mean(), inplace=True)  # Use mean if no outliers\n",
    "                print(f\"No significant outliers in {col}, using mean for imputation.\")\n",
    "\n",
    "        # Handling categorical columns\n",
    "        elif col in cat_col:\n",
    "            X[col].fillna(X[col].mode()[0], inplace=True)  # Fill missing values with mode if categorical\n",
    "            print(f\"Missing values in {col} filled with mode ({X[col].mode()[0]}).\")\n"
   ]
  },
  {
   "cell_type": "markdown",
   "metadata": {},
   "source": [
    "Check for missing values after filling"
   ]
  },
  {
   "cell_type": "code",
   "execution_count": 22,
   "metadata": {},
   "outputs": [
    {
     "data": {
      "text/plain": [
       "Age                     0\n",
       "Gender                  0\n",
       "Blood Pressure          0\n",
       "Cholesterol Level       0\n",
       "Exercise Habits         0\n",
       "Smoking                 0\n",
       "Family Heart Disease    0\n",
       "Diabetes                0\n",
       "BMI                     0\n",
       "High Blood Pressure     0\n",
       "Low HDL Cholesterol     0\n",
       "High LDL Cholesterol    0\n",
       "Alcohol Consumption     0\n",
       "Stress Level            0\n",
       "Sleep Hours             0\n",
       "Sugar Consumption       0\n",
       "Triglyceride Level      0\n",
       "Fasting Blood Sugar     0\n",
       "CRP Level               0\n",
       "Homocysteine Level      0\n",
       "dtype: int64"
      ]
     },
     "execution_count": 22,
     "metadata": {},
     "output_type": "execute_result"
    }
   ],
   "source": [
    "X.isnull().sum()"
   ]
  },
  {
   "cell_type": "markdown",
   "metadata": {},
   "source": [
    "Histogram for Age Column"
   ]
  },
  {
   "cell_type": "code",
   "execution_count": 23,
   "metadata": {},
   "outputs": [
    {
     "data": {
      "image/png": "[encoded data removed]",
      "text/plain": [
       "<Figure size 800x500 with 1 Axes>"
      ]
     },
     "metadata": {},
     "output_type": "display_data"
    }
   ],
   "source": [
    "plt.figure(figsize=(8, 5))\n",
    "sns.histplot(X[\"Age\"], bins=10, kde=True, color=\"green\")\n",
    "plt.xlabel(\"Age\")\n",
    "plt.ylabel(\"Frequency\")\n",
    "plt.title(\"Distribution of Age\")\n",
    "plt.show()"
   ]
  },
  {
   "cell_type": "markdown",
   "metadata": {},
   "source": [
    "Bar Chart"
   ]
  },
  {
   "cell_type": "code",
   "execution_count": 24,
   "metadata": {},
   "outputs": [
    {
     "name": "stderr",
     "output_type": "stream",
     "text": [
      "C:\\Users\\memuz\\AppData\\Local\\Temp\\ipykernel_9096\\3742414787.py:2: FutureWarning: \n",
      "\n",
      "Passing `palette` without assigning `hue` is deprecated and will be removed in v0.14.0. Assign the `x` variable to `hue` and set `legend=False` for the same effect.\n",
      "\n",
      "  sns.countplot(x=y, palette=\"coolwarm\")\n"
     ]
    },
    {
     "data": {
      "image/png": "[encoded data removed]",
      "text/plain": [
       "<Figure size 600x500 with 1 Axes>"
      ]
     },
     "metadata": {},
     "output_type": "display_data"
    }
   ],
   "source": [
    "plt.figure(figsize=(6, 5))\n",
    "sns.countplot(x=y, palette=\"coolwarm\")\n",
    "plt.xlabel(\"Heart Disease (Blue = No, Red = Yes)\")\n",
    "plt.ylabel(\"Count\")\n",
    "plt.title(\"People with & without Heart Disease\")\n",
    "plt.show()"
   ]
  },
  {
   "cell_type": "markdown",
   "metadata": {},
   "source": [
    "Box Plot of Cholesterol Level"
   ]
  },
  {
   "cell_type": "code",
   "execution_count": 25,
   "metadata": {},
   "outputs": [
    {
     "data": {
      "image/png": "[encoded data removed]",
      "text/plain": [
       "<Figure size 700x500 with 1 Axes>"
      ]
     },
     "metadata": {},
     "output_type": "display_data"
    }
   ],
   "source": [
    "plt.figure(figsize=(7, 5))\n",
    "sns.boxplot(y=X[\"Cholesterol Level\"], color=\"magenta\")\n",
    "plt.ylabel(\"Cholesterol Level\")\n",
    "plt.title(\"Box Plot of Cholesterol Level\")\n",
    "plt.show()"
   ]
  },
  {
   "cell_type": "markdown",
   "metadata": {},
   "source": [
    "Most people have cholesterol level between 180-260 and no outliers as were observed."
   ]
  }
 ],
 "metadata": {
  "kernelspec": {
   "display_name": "Python 3",
   "language": "python",
   "name": "python3"
  },
  "language_info": {
   "codemirror_mode": {
    "name": "ipython",
    "version": 3
   },
   "file_extension": ".py",
   "mimetype": "text/x-python",
   "name": "python",
   "nbconvert_exporter": "python",
   "pygments_lexer": "ipython3",
   "version": "3.13.2"
  }
 },
 "nbformat": 4,
 "nbformat_minor": 2
}
